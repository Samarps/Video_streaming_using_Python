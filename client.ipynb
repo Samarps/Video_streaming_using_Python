{
 "cells": [
  {
   "cell_type": "code",
   "execution_count": 1,
   "id": "1e613334",
   "metadata": {},
   "outputs": [],
   "source": [
    "import socket\n",
    "import cv2\n",
    "import pickle\n",
    "import numpy as np"
   ]
  },
  {
   "cell_type": "code",
   "execution_count": 2,
   "id": "577b2cb1",
   "metadata": {},
   "outputs": [],
   "source": [
    "s = socket.socket(socket.AF_INET, socket.SOCK_STREAM)\n",
    "s.setsockopt(socket.SOL_SOCKET, socket.SO_REUSEADDR, 1)"
   ]
  },
  {
   "cell_type": "code",
   "execution_count": 3,
   "id": "2dd1b3b5",
   "metadata": {},
   "outputs": [],
   "source": [
    "s.bind( (\"192.168.99.102\", 1234) )\n",
    "s.listen()\n",
    "c, addr = s.accept()"
   ]
  },
  {
   "cell_type": "code",
   "execution_count": 4,
   "id": "6ddbd378",
   "metadata": {},
   "outputs": [],
   "source": [
    "data = c.recv(4096)\n",
    "image_data = pickle.loads(data, fix_imports=True, encoding='bytes')"
   ]
  },
  {
   "cell_type": "code",
   "execution_count": null,
   "id": "2363fbb5",
   "metadata": {},
   "outputs": [],
   "source": [
    "i = 0\n",
    "final_image = np.zeros((0,0,3))\n",
    "while True:\n",
    "    data = c.recv(4096)\n",
    "    if data == 0:\n",
    "        break\n",
    "    image_data = pickle.loads(data, fix_imports=True, encoding='bytes')\n",
    "    if i == 1:\n",
    "        final_image = np.vstack(( final_image, image_data))\n",
    "    elif i ==0:\n",
    "        final_image = image_data\n",
    "    i = 1"
   ]
  },
  {
   "cell_type": "code",
   "execution_count": 5,
   "id": "ca390b54",
   "metadata": {},
   "outputs": [],
   "source": [
    "cv2.imshow(\"my photo\", image_data)\n",
    "cv2.waitKey()\n",
    "cv2.destroyAllWindows()"
   ]
  },
  {
   "cell_type": "code",
   "execution_count": null,
   "id": "61ce5c75",
   "metadata": {},
   "outputs": [],
   "source": [
    "c.send(b\"Thanks for this image!\")"
   ]
  },
  {
   "cell_type": "code",
   "execution_count": null,
   "id": "177bf32d",
   "metadata": {},
   "outputs": [],
   "source": [
    "cv2.imwrite('myfile.jpg', image_data)"
   ]
  }
 ],
 "metadata": {
  "kernelspec": {
   "display_name": "Python 3",
   "language": "python",
   "name": "python3"
  },
  "language_info": {
   "codemirror_mode": {
    "name": "ipython",
    "version": 3
   },
   "file_extension": ".py",
   "mimetype": "text/x-python",
   "name": "python",
   "nbconvert_exporter": "python",
   "pygments_lexer": "ipython3",
   "version": "3.6.8"
  }
 },
 "nbformat": 4,
 "nbformat_minor": 5
}
